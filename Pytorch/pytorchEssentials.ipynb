{
 "cells": [
  {
   "cell_type": "markdown",
   "metadata": {},
   "source": [
    "# PyTorch requirements:\n",
    "\n",
    "* torch: Core Pytorch package that contains tensors and neural networks.\n",
    "* torchvision: Image processing\n",
    "* torchaudio: Audio related task\n"
   ]
  },
  {
   "cell_type": "markdown",
   "metadata": {},
   "source": [
    "# Tensors is the core of PyTorch\n",
    "\n",
    "Tensors are multi-dimensional arrays that PyTorch uses to store and manipulate data.\n",
    "They are optimize for GPUs"
   ]
  },
  {
   "cell_type": "code",
   "execution_count": 6,
   "metadata": {},
   "outputs": [
    {
     "name": "stdout",
     "output_type": "stream",
     "text": [
      "tensor(3.)\n"
     ]
    }
   ],
   "source": [
    "import torch\n",
    "\n",
    "# singular number (scalar)\n",
    "scalar = torch.tensor(3.0)\n",
    "print(scalar)"
   ]
  },
  {
   "cell_type": "code",
   "execution_count": 7,
   "metadata": {},
   "outputs": [
    {
     "name": "stdout",
     "output_type": "stream",
     "text": [
      "tensor([1, 2, 3])\n"
     ]
    }
   ],
   "source": [
    "# A one-dimensional tensor (vector)\n",
    "vector = torch.tensor([1,2,3])\n",
    "print(vector)"
   ]
  },
  {
   "cell_type": "code",
   "execution_count": 8,
   "metadata": {},
   "outputs": [
    {
     "name": "stdout",
     "output_type": "stream",
     "text": [
      "[[1, 2], [3, 4]]\n"
     ]
    }
   ],
   "source": [
    "# A two-dimensional tensor (matrix)\n",
    "matrix = ([[1,2], [3,4]])\n",
    "print(matrix)"
   ]
  },
  {
   "cell_type": "code",
   "execution_count": 10,
   "metadata": {},
   "outputs": [
    {
     "name": "stdout",
     "output_type": "stream",
     "text": [
      "tensor([[[0.4297, 0.7092, 0.4210],\n",
      "         [0.2360, 0.6707, 0.1202],\n",
      "         [0.3439, 0.0060, 0.7333]],\n",
      "\n",
      "        [[0.4656, 0.3422, 0.2638],\n",
      "         [0.5089, 0.1415, 0.1580],\n",
      "         [0.4265, 0.5015, 0.0097]],\n",
      "\n",
      "        [[0.7981, 0.5993, 0.2802],\n",
      "         [0.9626, 0.0417, 0.2485],\n",
      "         [0.3987, 0.5287, 0.4706]]])\n"
     ]
    }
   ],
   "source": [
    "# Random 3D tensor\n",
    "tensor_3d = torch.rand(3,3,3)\n",
    "print(tensor_3d)"
   ]
  },
  {
   "cell_type": "markdown",
   "metadata": {},
   "source": [
    "# Basic tensor operations"
   ]
  },
  {
   "cell_type": "code",
   "execution_count": 11,
   "metadata": {},
   "outputs": [],
   "source": [
    "a = torch.tensor([2.0, 3.0])\n",
    "b = torch.tensor([4.0, 5.0])"
   ]
  },
  {
   "cell_type": "code",
   "execution_count": 12,
   "metadata": {},
   "outputs": [
    {
     "name": "stdout",
     "output_type": "stream",
     "text": [
      "tensor([6., 8.])\n"
     ]
    }
   ],
   "source": [
    "print(a+b)"
   ]
  },
  {
   "cell_type": "code",
   "execution_count": 13,
   "metadata": {},
   "outputs": [
    {
     "name": "stdout",
     "output_type": "stream",
     "text": [
      "tensor([ 8., 15.])\n"
     ]
    }
   ],
   "source": [
    "print(a*b)"
   ]
  },
  {
   "cell_type": "code",
   "execution_count": null,
   "metadata": {},
   "outputs": [
    {
     "name": "stdout",
     "output_type": "stream",
     "text": [
      "tensor(23.)\n"
     ]
    }
   ],
   "source": [
    "print(a @ b) # dot product for matrix multiplication"
   ]
  },
  {
   "cell_type": "markdown",
   "metadata": {},
   "source": [
    "# Move to GPU for Speed"
   ]
  },
  {
   "cell_type": "code",
   "execution_count": 16,
   "metadata": {},
   "outputs": [
    {
     "name": "stdout",
     "output_type": "stream",
     "text": [
      "cpu\n"
     ]
    }
   ],
   "source": [
    "device  = torch.device(\"cuda\" if torch.cuda.is_available() else \"cpu\")  \n",
    "x = torch.rand(3,3).to(device)\n",
    "print(x.device)"
   ]
  },
  {
   "cell_type": "markdown",
   "metadata": {},
   "source": [
    "# Defining a Neural Network in Pytorch"
   ]
  },
  {
   "cell_type": "code",
   "execution_count": 18,
   "metadata": {},
   "outputs": [],
   "source": [
    "import torch.nn as nn\n",
    "import torch.optim as optim\n",
    "\n",
    "# Defining a network\n",
    "class SimpleNN(nn.Module):\n",
    "    def __init__(self):\n",
    "        super(SimpleNN, self).__init__()\n",
    "        self.fc1 = nn.Linear(2,3)\n",
    "        self.fc2 = nn.Linear(3,1)\n",
    "\n",
    "    def forward(self, x):\n",
    "        x = torch.relu(self.fc1(x)) # acivation function\n",
    "        x = torch.sigmoid(self.fc2(x))\n",
    "        return x\n",
    "    \n",
    "model = SimpleNN()\n"
   ]
  },
  {
   "cell_type": "markdown",
   "metadata": {},
   "source": [
    "# Loss Function and Optimizer\n",
    "\n",
    "Neural networks learn by minimizing a loss function using an optimizer"
   ]
  },
  {
   "cell_type": "code",
   "execution_count": null,
   "metadata": {},
   "outputs": [],
   "source": [
    "criterion = nn.BCELoss() # Binary cross entropy loss function\n",
    "optimizer = optim.Adam(model.parameters(), lr=0.01) # A popular optimizer that adjusts learning rates dynamically."
   ]
  },
  {
   "cell_type": "markdown",
   "metadata": {},
   "source": [
    "# Training Neural Network"
   ]
  },
  {
   "cell_type": "code",
   "execution_count": 21,
   "metadata": {},
   "outputs": [
    {
     "name": "stdout",
     "output_type": "stream",
     "text": [
      "Epoch 0, Loss: 0.7339\n",
      "Epoch 100, Loss: 0.5524\n",
      "Epoch 200, Loss: 0.2728\n",
      "Epoch 300, Loss: 0.1235\n",
      "Epoch 400, Loss: 0.0649\n",
      "Epoch 500, Loss: 0.0394\n",
      "Epoch 600, Loss: 0.0264\n",
      "Epoch 700, Loss: 0.0190\n",
      "Epoch 800, Loss: 0.0143\n",
      "Epoch 900, Loss: 0.0112\n"
     ]
    }
   ],
   "source": [
    "# Example xor dataset\n",
    "X = torch.tensor([[0,0], [0,1], [1,0], [1,1]], dtype=torch.float32)\n",
    "Y = torch.tensor([[0], [1], [1], [0]], dtype=torch.float32) # XOR labels\n",
    "\n",
    "for epoch in range(1000):\n",
    "    optimizer.zero_grad() # Reset gradients to zero\n",
    "    y_pred = model(X) # Forward pass(prediction)\n",
    "    loss = criterion(y_pred, Y) # Compute loss\n",
    "    loss.backward() # Backpropagation (Compute gradients)\n",
    "    optimizer.step()\n",
    "\n",
    "    if epoch % 100 == 0:\n",
    "        print(f'Epoch {epoch}, Loss: {loss.item():.4f}')\n",
    "\n",
    "        "
   ]
  },
  {
   "cell_type": "markdown",
   "metadata": {},
   "source": [
    "# Evaluating the model"
   ]
  },
  {
   "cell_type": "code",
   "execution_count": 22,
   "metadata": {},
   "outputs": [
    {
     "name": "stdout",
     "output_type": "stream",
     "text": [
      "tensor([[0.0066],\n",
      "        [0.9795],\n",
      "        [0.9958],\n",
      "        [0.0043]])\n"
     ]
    }
   ],
   "source": [
    "with torch.no_grad():\n",
    "    y_test = model(X)\n",
    "    print(y_test)"
   ]
  },
  {
   "cell_type": "markdown",
   "metadata": {},
   "source": [
    "# Using DataLoader for Large Datasets\n",
    "\n",
    "For large datasets, pytorch provides dataset and data loader to hanlde batching."
   ]
  },
  {
   "cell_type": "code",
   "execution_count": 23,
   "metadata": {},
   "outputs": [],
   "source": [
    "from torch.utils.data import Dataset, DataLoader"
   ]
  },
  {
   "cell_type": "code",
   "execution_count": 27,
   "metadata": {},
   "outputs": [
    {
     "name": "stdout",
     "output_type": "stream",
     "text": [
      "torch.Size([10, 2])\n"
     ]
    }
   ],
   "source": [
    "# Custom dataset class\n",
    "class CustomDataset(Dataset):\n",
    "    def __init__(self):\n",
    "        self.data = torch.rand(100,2) # 100 samples, 2 features\n",
    "        self.labels = torch.randint(0,2,(100,1), dtype=torch.float32)\n",
    "\n",
    "    def __len__(self):\n",
    "        return len(self.data)\n",
    "    \n",
    "    def __getitem__(self, idx):\n",
    "        return self.data[idx], self.labels[idx]\n",
    "    \n",
    "dataset = CustomDataset()\n",
    "dataloader = DataLoader(dataset, batch_size=10, shuffle=True)\n",
    "\n",
    "for batch in dataloader:\n",
    "    inputs, lables = batch\n",
    "    print(inputs.shape)\n",
    "    break # print only first batch"
   ]
  },
  {
   "cell_type": "markdown",
   "metadata": {},
   "source": [
    "# What’s happening here?\n",
    "\n",
    "* Dataset Class: Defines how to load data.\n",
    "* DataLoader: Handles batch processing efficiently.\n",
    "* Use Case: Essential when working with large datasets like images or text."
   ]
  },
  {
   "cell_type": "code",
   "execution_count": 28,
   "metadata": {},
   "outputs": [],
   "source": [
    "# Save Model\n",
    "torch.save(model.state_dict(), \"model.pth\")"
   ]
  },
  {
   "cell_type": "code",
   "execution_count": null,
   "metadata": {},
   "outputs": [
    {
     "data": {
      "text/plain": [
       "<All keys matched successfully>"
      ]
     },
     "execution_count": 29,
     "metadata": {},
     "output_type": "execute_result"
    }
   ],
   "source": [
    "# Load Model Saves a trained model so you can load it later without retraining.\n",
    "model.load_state_dict(torch.load(\"model.pth\"))"
   ]
  }
 ],
 "metadata": {
  "kernelspec": {
   "display_name": ".env",
   "language": "python",
   "name": "python3"
  },
  "language_info": {
   "codemirror_mode": {
    "name": "ipython",
    "version": 3
   },
   "file_extension": ".py",
   "mimetype": "text/x-python",
   "name": "python",
   "nbconvert_exporter": "python",
   "pygments_lexer": "ipython3",
   "version": "3.11.4"
  }
 },
 "nbformat": 4,
 "nbformat_minor": 2
}
